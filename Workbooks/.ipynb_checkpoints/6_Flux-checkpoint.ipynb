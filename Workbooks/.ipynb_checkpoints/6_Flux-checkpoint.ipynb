{
 "cells": [
  {
   "cell_type": "markdown",
   "id": "e15d3619",
   "metadata": {},
   "source": [
    "# Deep Learning in Julia: Flux"
   ]
  },
  {
   "cell_type": "code",
   "execution_count": null,
   "id": "374486a1",
   "metadata": {},
   "outputs": [],
   "source": []
  }
 ],
 "metadata": {
  "kernelspec": {
   "display_name": "Julia 1.8.2",
   "language": "julia",
   "name": "julia-1.8"
  },
  "language_info": {
   "file_extension": ".jl",
   "mimetype": "application/julia",
   "name": "julia",
   "version": "1.8.2"
  }
 },
 "nbformat": 4,
 "nbformat_minor": 5
}
